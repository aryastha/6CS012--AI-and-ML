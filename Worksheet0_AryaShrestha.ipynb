{
 "cells": [
  {
   "cell_type": "code",
   "execution_count": null,
   "id": "474175c1-95de-4bcb-8278-07539a73f4a4",
   "metadata": {},
   "outputs": [],
   "source": [
    "# To covert different units of measurement"
   ]
  },
  {
   "cell_type": "code",
   "execution_count": 16,
   "id": "b23a04fe-d898-4ee7-8696-9a0427432f85",
   "metadata": {},
   "outputs": [
    {
     "name": "stdout",
     "output_type": "stream",
     "text": [
      "Unit Converter\n",
      "1. Length (Meters to Feet / Feet to Meters)\n",
      "2. Weight (Kilograms to Pounds / Pounds to Kilograms)\n",
      "3. Volume (Liters to Gallons / Gallons to Liters)\n"
     ]
    },
    {
     "name": "stdin",
     "output_type": "stream",
     "text": [
      "Choose the conversion type 1/2/3:  2\n",
      "Enter the value to convert 66\n",
      "Enter unit (kg for kilograms, lbs for pounds):  kg\n"
     ]
    },
    {
     "name": "stdout",
     "output_type": "stream",
     "text": [
      "Converted Value: 145.50\n"
     ]
    }
   ],
   "source": [
    "def convert_length(value, unit):\n",
    "    if unit == 'm':\n",
    "        return value * 3.28084\n",
    "    elif unit == 'ft':\n",
    "        return value / 3.28048\n",
    "    else:\n",
    "        raise ValueError(\"Invalid Length Unit\")\n",
    "\n",
    "def convert_weight(value, unit):\n",
    "    if unit == \"kg\":\n",
    "        return value * 2.20462\n",
    "    elif unit == \"pound\":\n",
    "        return value / 2.2063\n",
    "    else:\n",
    "        raise ValueError(\"Invalid Weight Unit\")\n",
    "        \n",
    "def convert_volume(value, unit):\n",
    "    if unit == \"l\":\n",
    "        return value * 0.264172\n",
    "    elif unit == \"gal\":\n",
    "        return value /  0.264172\n",
    "    else:\n",
    "        raise ValueError(\"Invalid Volume Unit\")\n",
    "\n",
    "\n",
    "def main ():\n",
    "    print (\"Unit Converter\")\n",
    "    print(\"1. Length (Meters to Feet / Feet to Meters)\")\n",
    "    print(\"2. Weight (Kilograms to Pounds / Pounds to Kilograms)\")\n",
    "    print(\"3. Volume (Liters to Gallons / Gallons to Liters)\")\n",
    "\n",
    "\n",
    "    try:\n",
    "        choice = int(input(\"Choose the conversion type 1/2/3: \"))\n",
    "        value = float(input(\"Enter the value to convert\"))\n",
    "\n",
    "        if choice == 1:\n",
    "             choice = input(\"Enter the unit(m for meters, ft for feet): \").strip().lower()\n",
    "             result = convert_length(value,choice)\n",
    "             print(f\"Result : {result:.2f}\")\n",
    "        elif choice == 2:\n",
    "            unit = input(\"Enter unit (kg for kilograms, lbs for pounds): \").strip().lower()\n",
    "            result = convert_weight(value, unit)\n",
    "            print(f\"Converted Value: {result:.2f}\")\n",
    "        elif choice == 3:\n",
    "            unit = input(\"Enter unit (L for liters, gal for gallons): \").strip().lower()\n",
    "            result = convert_volume(value, unit)\n",
    "            print(f\"Converted Value: {result:.2f}\")\n",
    "        else:\n",
    "            print(\"Invalid choice. Please select a valid option.\")\n",
    "    except ValueError as e:\n",
    "          print(f\"Error: {e}\")\n",
    "\n",
    "if __name__ == \"__main__\":\n",
    "    main()\n",
    "\n",
    "\n",
    "        \n",
    "\n"
   ]
  },
  {
   "cell_type": "code",
   "execution_count": null,
   "id": "482a3bd8-c2b5-47c6-96d3-a9cb745504a7",
   "metadata": {},
   "outputs": [],
   "source": [
    " # Perform various mathematical operations on a list of numbers."
   ]
  },
  {
   "cell_type": "code",
   "execution_count": 18,
   "id": "39f73d5d-d871-49ea-93d9-a7fcae8e56a7",
   "metadata": {},
   "outputs": [
    {
     "name": "stdout",
     "output_type": "stream",
     "text": [
      "Choose the type of operation:\n",
      "1. Sum\n",
      "2. Average\n",
      "3. Maximum\n",
      "4. Minimum\n"
     ]
    },
    {
     "name": "stdin",
     "output_type": "stream",
     "text": [
      "Choose the operation (1,2,3,4):  4\n",
      "Enter the list of numbers separated by spaces:  2 8 9 5 4 7\n"
     ]
    },
    {
     "name": "stdout",
     "output_type": "stream",
     "text": [
      "Result: 2.0\n"
     ]
    }
   ],
   "source": [
    "def calculate_sum(numbers):\n",
    "    return sum(numbers)\n",
    "\n",
    "def calculate_average(numbers):\n",
    "    if not numbers:\n",
    "        raise ValueError(\"Cannot calculate average of an empty list.\")\n",
    "    return sum(numbers) / len(numbers)\n",
    "\n",
    "def find_maximum(numbers):\n",
    "    if not numbers:\n",
    "        raise ValueError(\"Cannot find maximum of an empty list.\")\n",
    "    return max(numbers)\n",
    "\n",
    "def find_minimum(numbers):\n",
    "    if not numbers:\n",
    "        raise ValueError(\"Cannot find minimum of an empty list.\")\n",
    "    return min(numbers)\n",
    "\n",
    "def main():\n",
    "    try:\n",
    "        print(\"Choose the type of operation:\")\n",
    "        print(\"1. Sum\")\n",
    "        print(\"2. Average\")\n",
    "        print(\"3. Maximum\")\n",
    "        print(\"4. Minimum\")\n",
    "        \n",
    "        operation = int(input(\"Choose the operation (1,2,3,4): \"))\n",
    "        numbers = list(map(float, input(\"Enter the list of numbers separated by spaces: \").strip().split()))\n",
    "        \n",
    "        operations = {\n",
    "            1: calculate_sum,\n",
    "            2: calculate_average,\n",
    "            3: find_maximum,\n",
    "            4: find_minimum\n",
    "        }\n",
    "        \n",
    "        if operation in operations:\n",
    "            result = operations[operation](numbers)\n",
    "            print(f\"Result: {result}\")\n",
    "        else:\n",
    "            print(\"Invalid choice. Please select a valid option.\")\n",
    "    \n",
    "    except ValueError as e:\n",
    "        print(f\"Error: {e}\")\n",
    "    except Exception as e:\n",
    "        print(f\"An unexpected error occurred: {e}\")\n",
    "\n",
    "if __name__ == \"__main__\":\n",
    "    main()\n"
   ]
  },
  {
   "cell_type": "code",
   "execution_count": null,
   "id": "3ab66b99-812f-469d-a92a-2ee777b0d213",
   "metadata": {},
   "outputs": [],
   "source": [
    "# Extracts every other elements from a list"
   ]
  },
  {
   "cell_type": "code",
   "execution_count": 22,
   "id": "75b27c55-601f-40b1-9fb8-52c4e89658b3",
   "metadata": {},
   "outputs": [
    {
     "name": "stdout",
     "output_type": "stream",
     "text": [
      "[2, 4, 6, 8, 10]\n"
     ]
    }
   ],
   "source": [
    "def extract_every_other(lst):\n",
    "    return lst[::2]\n",
    "    \n",
    "def main():\n",
    "    lst= [2,3,4,5,6,7,8,9,10]\n",
    "    result = extract_every_other(lst)\n",
    "    print(result)\n",
    "\n",
    "main()"
   ]
  },
  {
   "cell_type": "code",
   "execution_count": null,
   "id": "e3064171-1a50-457c-adec-bf04fe52a99d",
   "metadata": {},
   "outputs": [],
   "source": [
    "#Slice a Subset"
   ]
  },
  {
   "cell_type": "code",
   "execution_count": 31,
   "id": "f8d49703-a104-4522-8541-7f9a06fa12a3",
   "metadata": {},
   "outputs": [
    {
     "name": "stdout",
     "output_type": "stream",
     "text": [
      "[4, 5, 6, 7, 8, 9]\n"
     ]
    }
   ],
   "source": [
    " def get_sublist(lst, start,end):\n",
    "     return lst[start:end]\n",
    "\n",
    "def main():\n",
    "    lst = [1,2,3,4,5,6,7,8,9,10]\n",
    "    start = 3\n",
    "    end = 9\n",
    "    print(get_sublist(lst, start,end))\n",
    "\n",
    "main()"
   ]
  },
  {
   "cell_type": "code",
   "execution_count": null,
   "id": "a51de240-9996-4ec2-a52c-066c64067576",
   "metadata": {},
   "outputs": [],
   "source": [
    "#Reverse the list string"
   ]
  },
  {
   "cell_type": "code",
   "execution_count": 6,
   "id": "8cac874d-2180-43eb-a07d-6dcbd9d05176",
   "metadata": {},
   "outputs": [
    {
     "name": "stdout",
     "output_type": "stream",
     "text": [
      "[5, 4, 3, 2, 1]\n"
     ]
    }
   ],
   "source": [
    "def reverse_list(lst):\n",
    "    return lst [::-1]\n",
    "\n",
    "def main():\n",
    "    lst = [1,2,3,4,5]\n",
    "    print(reverse_list(lst))\n",
    "\n",
    "main()\n",
    "    "
   ]
  },
  {
   "cell_type": "code",
   "execution_count": null,
   "id": "59c2cb80-9386-4942-aa42-274cca1e50b3",
   "metadata": {},
   "outputs": [],
   "source": [
    "#Remove the First and Last Elements:"
   ]
  },
  {
   "cell_type": "code",
   "execution_count": 24,
   "id": "24b63f51-6514-40f1-a069-cfa4c4ba2e30",
   "metadata": {},
   "outputs": [
    {
     "name": "stdout",
     "output_type": "stream",
     "text": [
      "[1, 2, 3, 4, 5, 6, 7, 8, 9, 10]\n"
     ]
    }
   ],
   "source": [
    "def remove_first_last(lst):\n",
    "    return lst[1:-1]\n",
    "\n",
    "def main():\n",
    "    lst = [4,1,2,3,4,5,6,7,8,9,10,11]        \n",
    "    print(remove_first_last(lst))\n",
    "\n",
    "main()\n",
    "    "
   ]
  },
  {
   "cell_type": "code",
   "execution_count": null,
   "id": "a9dade8f-5edf-4024-a457-2e1e746a00ff",
   "metadata": {},
   "outputs": [],
   "source": [
    "#Get the First n Elements:"
   ]
  },
  {
   "cell_type": "code",
   "execution_count": 32,
   "id": "98877582-0d87-4617-a759-8b9c7b562410",
   "metadata": {},
   "outputs": [
    {
     "name": "stdout",
     "output_type": "stream",
     "text": [
      "[4, 1, 2, 3, 4, 5, 6, 7, 8, 9, 10, 11]\n"
     ]
    },
    {
     "name": "stdin",
     "output_type": "stream",
     "text": [
      "Enter the number of elements you want to extract:  2\n"
     ]
    },
    {
     "name": "stdout",
     "output_type": "stream",
     "text": [
      "[4, 1]\n"
     ]
    }
   ],
   "source": [
    "def get_first_n(lst,n):\n",
    "    \n",
    "    return lst[:n]\n",
    "\n",
    "def main():\n",
    "    lst = [4,1,2,3,4,5,6,7,8,9,10,11]\n",
    "    print(lst)\n",
    "    n = int(input(\"Enter the number of elements you want to extract: \"))\n",
    "    get_first_n(lst,n)\n",
    "    print (get_first_n(lst,n))\n",
    "\n",
    "main()"
   ]
  },
  {
   "cell_type": "code",
   "execution_count": null,
   "id": "196cac0a-7305-4dbb-8e33-fd3f847a3c5a",
   "metadata": {},
   "outputs": [],
   "source": [
    "# Extract Elements from the End:"
   ]
  },
  {
   "cell_type": "code",
   "execution_count": 63,
   "id": "697f0191-b89e-46fb-8782-5e7d77c12f74",
   "metadata": {},
   "outputs": [
    {
     "name": "stdout",
     "output_type": "stream",
     "text": [
      "[1, 2, 3, 4, 5, 6, 7, 8, 9, 10, 11]\n"
     ]
    },
    {
     "name": "stdin",
     "output_type": "stream",
     "text": [
      "Enter the number of elements you want to extract:  5\n"
     ]
    },
    {
     "name": "stdout",
     "output_type": "stream",
     "text": [
      "[7, 8, 9, 10, 11]\n"
     ]
    }
   ],
   "source": [
    "def get_last_n(lst,n):\n",
    "    \n",
    "    return lst[-n:]\n",
    "\n",
    "def main():\n",
    "    lst = [1,2,3,4,5,6,7,8,9,10,11]\n",
    "    print(lst)\n",
    "    n = int(input(\"Enter the number of elements you want to extract: \"))\n",
    "    get_last_n(lst,n)\n",
    "    print (get_last_n(lst,n))\n",
    "\n",
    "main()"
   ]
  },
  {
   "cell_type": "code",
   "execution_count": null,
   "id": "855d2d3b-bafd-4b5d-a341-af6b9fff5019",
   "metadata": {},
   "outputs": [],
   "source": [
    "# Extract Elements in Reverse Order:"
   ]
  },
  {
   "cell_type": "code",
   "execution_count": 77,
   "id": "d01f4093-9722-4ca9-90fb-bed4dc4512c9",
   "metadata": {},
   "outputs": [
    {
     "name": "stdout",
     "output_type": "stream",
     "text": [
      "[7, 5, 3, 1]\n"
     ]
    }
   ],
   "source": [
    "def  reverse_skip(lst):\n",
    "    return lst[-2::-2]\n",
    "\n",
    "def main():\n",
    "    lst = [1,2,3,4,5,6,7,8]\n",
    "    print(reverse_skip(lst))\n",
    "\n",
    "main()"
   ]
  },
  {
   "cell_type": "code",
   "execution_count": null,
   "id": "c07a1a00-6b09-4d2a-8b52-617d909f8aaf",
   "metadata": {},
   "outputs": [],
   "source": [
    "# Nested List"
   ]
  },
  {
   "cell_type": "code",
   "execution_count": 97,
   "id": "c71bb952-d46f-4f4c-8877-0d00386dc261",
   "metadata": {},
   "outputs": [
    {
     "name": "stdout",
     "output_type": "stream",
     "text": [
      "[1, 2, 3, 4, 5, 7]\n"
     ]
    }
   ],
   "source": [
    "def flatten(lst):\n",
    "    return [item for sublist in lst for item in sublist]\n",
    "\n",
    "def main():\n",
    "    lst = [[1,2,3], [4,5], [7]]\n",
    "    print(flatten(lst))\n",
    "\n",
    "main()\n",
    "\n"
   ]
  },
  {
   "cell_type": "code",
   "execution_count": 99,
   "id": "8db894bf-3d8c-4f52-b05e-f150029c4cbe",
   "metadata": {},
   "outputs": [],
   "source": [
    "# Accessing Nested List Elements:"
   ]
  },
  {
   "cell_type": "code",
   "execution_count": 101,
   "id": "d0c1797e-d719-4731-826f-ae4b68347b19",
   "metadata": {},
   "outputs": [
    {
     "name": "stdout",
     "output_type": "stream",
     "text": [
      "9\n"
     ]
    }
   ],
   "source": [
    "def access_nested_element(lst, indices):\n",
    "    for index in indices:\n",
    "        lst = lst[index]\n",
    "    return lst\n",
    "\n",
    "def main():\n",
    "    lst = [[1,2,3], [4,5,6],[7,8,9]]\n",
    "    indices = [2,2]\n",
    "    print(access_nested_element(lst, indices))\n",
    "\n",
    "main()"
   ]
  },
  {
   "cell_type": "code",
   "execution_count": null,
   "id": "09da24e3-9311-4707-8223-057e65d08b5a",
   "metadata": {},
   "outputs": [],
   "source": [
    "# Sum of All Elements in a Nested List"
   ]
  },
  {
   "cell_type": "code",
   "execution_count": 16,
   "id": "c6bf8354-6244-429b-90c2-055cc7706326",
   "metadata": {},
   "outputs": [
    {
     "name": "stdout",
     "output_type": "stream",
     "text": [
      "21\n"
     ]
    }
   ],
   "source": [
    "def sum_nested(lst):\n",
    "    total = 0\n",
    "    for item in lst:\n",
    "        if isinstance(item, list):\n",
    "            total += sum_nested(item)\n",
    "        else:\n",
    "            total += item\n",
    "    return total\n",
    "\n",
    "def main():\n",
    "    lst = [[1,2],[3,[4,5]], 6]\n",
    "    print(sum_nested(lst))\n",
    "main()"
   ]
  },
  {
   "cell_type": "code",
   "execution_count": null,
   "id": "681f0e33-56e5-48f8-b20f-4781bf6a691d",
   "metadata": {},
   "outputs": [],
   "source": [
    "# Remove Specific Element from a Nested List:"
   ]
  },
  {
   "cell_type": "code",
   "execution_count": 8,
   "id": "2348d19a-a976-4522-ae08-aba2c2342149",
   "metadata": {},
   "outputs": [
    {
     "name": "stdout",
     "output_type": "stream",
     "text": [
      "[[1], [3], [4, 5]]\n"
     ]
    }
   ],
   "source": [
    "def remove_element(lst, element):\n",
    "    result = []\n",
    "    for item in lst:\n",
    "        if isinstance(item, list):\n",
    "            cleaned_list = remove_element(item, element)\n",
    "            if cleaned_list:\n",
    "                result.append(cleaned_list)\n",
    "        elif item != element:\n",
    "            result.append(item)\n",
    "    return result\n",
    "\n",
    "    \n",
    "def main():\n",
    "    lst = [[1,2], [3,2], [4,5]]\n",
    "    element = 2\n",
    "    print(remove_element(lst, element))\n",
    "\n",
    "main()\n",
    "    "
   ]
  },
  {
   "cell_type": "code",
   "execution_count": null,
   "id": "c8afb0a7-4efa-454f-a0a5-ce867834a28d",
   "metadata": {},
   "outputs": [],
   "source": [
    "# Find the Maximum Element in a Nested List:"
   ]
  },
  {
   "cell_type": "code",
   "execution_count": 20,
   "id": "86efbd3a-3b9e-4123-aeb9-939ffa01865e",
   "metadata": {},
   "outputs": [
    {
     "name": "stdout",
     "output_type": "stream",
     "text": [
      "6\n"
     ]
    }
   ],
   "source": [
    "def find_max(lst):\n",
    "    max_value = float('-inf') \n",
    "    \n",
    "    for item in lst:\n",
    "        if isinstance(item, list):  \n",
    "            max_value = max(max_value, find_max(item))\n",
    "        else: \n",
    "            max_value = max(max_value, item)\n",
    "    \n",
    "    return max_value\n",
    "\n",
    "nested_list = [[1, 2], [3, [4, 5]], 6]\n",
    "print(find_max(nested_list))  \n"
   ]
  },
  {
   "cell_type": "code",
   "execution_count": null,
   "id": "8d0c00eb-5d5a-41ec-ac00-1e06260cf6d2",
   "metadata": {},
   "outputs": [],
   "source": [
    "# Count Occurrences of an Element in a Nested List:"
   ]
  },
  {
   "cell_type": "code",
   "execution_count": null,
   "id": "5f246ec3-b83e-4727-8ab9-62142497ab39",
   "metadata": {},
   "outputs": [],
   "source": [
    "def deep_flatten(lst):\n",
    "    result = []\n",
    "    for item in lst:\n",
    "        if isinstance(item, list):\n",
    "            result.extend(deef_flatten(item))\n",
    "        else:\n",
    "            result.append(item)\n",
    "    \n",
    "def main():\n",
    "    lst = [[[1, 2], [3, 4]], [[5, 6], [7, 8]]]\n",
    "    "
   ]
  },
  {
   "cell_type": "code",
   "execution_count": null,
   "id": "e42a8987-9340-4790-aaa8-c8f6a16ced6c",
   "metadata": {},
   "outputs": [],
   "source": [
    "# Nested List Average:"
   ]
  },
  {
   "cell_type": "code",
   "execution_count": 28,
   "id": "d5907db0-74cb-4b97-ba29-ec07f76f5fdf",
   "metadata": {},
   "outputs": [
    {
     "name": "stdout",
     "output_type": "stream",
     "text": [
      "3.5\n"
     ]
    }
   ],
   "source": [
    "def average_nested(lst):\n",
    "    total = 0\n",
    "    length = len(lst)\n",
    "    for item in lst:\n",
    "        if isinstance(item, list):\n",
    "            total += average_nested(item)\n",
    "        else:\n",
    "            total += item\n",
    "    average = total/length\n",
    "    return average\n",
    "\n",
    "def main():\n",
    "    lst = [[1,2],[3,4],[5, 6]]\n",
    "    print(average_nested(lst))\n",
    "main()"
   ]
  },
  {
   "cell_type": "code",
   "execution_count": null,
   "id": "9bf89d3e-8811-4dd0-8b87-2880ce47e4cd",
   "metadata": {},
   "outputs": [],
   "source": [
    "NUMPY - OPERATIONS"
   ]
  },
  {
   "cell_type": "code",
   "execution_count": null,
   "id": "b45b1bb3-f309-42d5-92bb-c3ca97c71032",
   "metadata": {},
   "outputs": [],
   "source": [
    "# Initialize an empty array with size 2X2.\n",
    "# 2. Initialize an all one array with size 4X2.\n",
    "# 3. Return a new array of given shape and type, filled with fill value.{Hint: np.full}\n",
    "# 4. Return a new array of zeros with same shape and type as a given array.{Hint: np.zeros like}\n",
    "# 5. Return a new array of ones with same shape and type as a given array.{Hint: np.ones like}\n",
    "# 6. For an existing list new_list = [1,2,3,4] convert to an numpy array.{Hint: np.array()}"
   ]
  },
  {
   "cell_type": "code",
   "execution_count": 32,
   "id": "4ff76781-4a82-4396-8cda-cc7dee0e0978",
   "metadata": {},
   "outputs": [
    {
     "name": "stdout",
     "output_type": "stream",
     "text": [
      "Empty Array:\n",
      " [[2.12199579e-314 6.95165821e-310]\n",
      " [6.79834329e-321 1.08433985e-311]]\n"
     ]
    }
   ],
   "source": [
    "import numpy as np\n",
    "empty_array = np.empty((2,2))\n",
    "print(\"Empty Array:\\n\", empty_array)\n",
    "\n",
    "\n",
    "\n",
    "\n",
    "\n",
    "\n"
   ]
  },
  {
   "cell_type": "code",
   "execution_count": 36,
   "id": "a0e37f2a-333e-4e4d-84b6-a3de5431a33f",
   "metadata": {},
   "outputs": [
    {
     "name": "stdout",
     "output_type": "stream",
     "text": [
      "\n",
      "All Ones Array:\n",
      " [[1. 1.]\n",
      " [1. 1.]\n",
      " [1. 1.]\n",
      " [1. 1.]]\n"
     ]
    }
   ],
   "source": [
    "import numpy as np\n",
    "\n",
    "one_array = np.ones((4,2))\n",
    "print(\"\\nAll Ones Array:\\n\", one_array)\n",
    "\n"
   ]
  },
  {
   "cell_type": "code",
   "execution_count": 38,
   "id": "f2e64487-81b0-4633-9f08-6cbfd616b55e",
   "metadata": {},
   "outputs": [
    {
     "name": "stdout",
     "output_type": "stream",
     "text": [
      "\n",
      "Filled Array:\n",
      " [[7 7]\n",
      " [7 7]]\n"
     ]
    }
   ],
   "source": [
    "import numpy as np\n",
    "\n",
    "value = 7\n",
    "full_array= np.full((2,2),7)\n",
    "print(\"\\nFilled Array:\\n\", full_array)"
   ]
  },
  {
   "cell_type": "code",
   "execution_count": 46,
   "id": "594acd66-265c-40b5-995b-fd482a288cc8",
   "metadata": {},
   "outputs": [
    {
     "name": "stdout",
     "output_type": "stream",
     "text": [
      "\n",
      "Zeros Like Array:\n",
      " [[0 0 0]\n",
      " [0 0 0]]\n",
      "\n",
      "Ones Like Array:\n",
      " [[1 1 1]\n",
      " [1 1 1]]\n",
      "\n",
      "Converted NumPy Array:\n",
      " [1 2 3 4]\n"
     ]
    }
   ],
   "source": [
    "array = np.array ([[1,2,3], [7, 8, 9]])\n",
    "zeros_like_array = np.zeros_like (array)\n",
    "print(\"\\nZeros Like Array:\\n\", zeros_like_array)\n",
    "\n",
    "ones_like_array = np.ones_like(array)\n",
    "print(\"\\nOnes Like Array:\\n\", ones_like_array)\n",
    "\n",
    "new_list = [1,2,3,4]\n",
    "numpy_array = np.array(new_list)\n",
    "print(\"\\nConverted NumPy Array:\\n\", numpy_array)\n",
    "\n"
   ]
  },
  {
   "cell_type": "code",
   "execution_count": null,
   "id": "59243a48-0a0b-483c-8022-7b20e5b73ef9",
   "metadata": {},
   "outputs": [],
   "source": [
    "# Array Manipulation: Numerical Ranges and Array indexing:"
   ]
  },
  {
   "cell_type": "code",
   "execution_count": null,
   "id": "e960fba2-9178-49d1-ae2b-0cd0ee93bb7e",
   "metadata": {},
   "outputs": [],
   "source": [
    "# Create an array with values ranging from 10 to 49. {Hint:np.arrange()}."
   ]
  },
  {
   "cell_type": "code",
   "execution_count": null,
   "id": "a421fd72-303e-4bab-9444-dc1e4f0ebaef",
   "metadata": {},
   "outputs": [],
   "source": [
    "# 1. Create an array with values ranging from 10 to 49. {Hint:np.arrange()}.\n",
    "# 2. Create a 3X3 matrix with values ranging from 0 to 8.\n",
    "# {Hint:look for np.reshape()}\n",
    "# 3. Create a 3X3 identity matrix.{Hint:np.eye()}\n",
    "# 4. Create a random array of size 30 and find the mean of the array.\n",
    "# {Hint:check for np.random.random() and array.mean() function}\n",
    "# 5. Create a 10X10 array with random values and find the minimum and maximum values.\n",
    "# 6. Create a zero array of size 10 and replace 5th element with 1.\n",
    "# 7. Reverse an array arr = [1,2,0,0,4,0].\n",
    "# 8. Create a 2d array with 1 on border and 0 inside.\n",
    "# 9. Create a 8X8 matrix and fill it with a checkerboard pattern."
   ]
  },
  {
   "cell_type": "code",
   "execution_count": 104,
   "id": "2476de4e-b509-4c36-80c8-1741a1dc00c2",
   "metadata": {},
   "outputs": [
    {
     "name": "stdout",
     "output_type": "stream",
     "text": [
      "Array from 10 to 49:\n",
      " [10 11 12 13 14 15 16 17 18 19 20 21 22 23 24 25 26 27 28 29 30 31 32 33\n",
      " 34 35 36 37 38 39 40 41 42 43 44 45 46 47 48 49]\n",
      "\n",
      "3x3 Matrix:\n",
      " [[0 1 2]\n",
      " [3 4 5]\n",
      " [6 7 8]]\n",
      "\n",
      "3x3 Identity Matrix:\n",
      " [[1. 0. 0.]\n",
      " [0. 1. 0.]\n",
      " [0. 0. 1.]]\n",
      "\n",
      " [0.11333306 0.19157987 0.99009343 0.65515852 0.87646467 0.80101033\n",
      " 0.68094611 0.63640884 0.60411256 0.12506437 0.66803096 0.8872679\n",
      " 0.24840357 0.5881455  0.67261135 0.95208014 0.35923878 0.76326517\n",
      " 0.84514365 0.84913222 0.7810113  0.29058886 0.14691956 0.88818637\n",
      " 0.98927327 0.6800591  0.56278715 0.55762622 0.93625115 0.85982235]\n",
      "The mean value is:\n",
      "  0.6400005448240405\n",
      "The min value is\n",
      "  0.005648946804197474\n",
      "The min value is\n",
      "  0.9999651118128078\n",
      "[0. 0. 0. 0. 1. 0. 0. 0. 0. 0.]\n",
      "The reverse array is\n",
      ":  [0, 4, 0, 0, 2, 1]\n",
      "\n",
      "2D Array with Border 1 and Inside 0:\n",
      " [[1. 1. 1. 1. 1.]\n",
      " [1. 0. 0. 0. 1.]\n",
      " [1. 0. 0. 0. 1.]\n",
      " [1. 0. 0. 0. 1.]\n",
      " [1. 1. 1. 1. 1.]]\n",
      "\n",
      "8x8 Checkerboard Pattern:\n",
      " [[0. 1. 0. 1. 0. 1. 0. 1.]\n",
      " [1. 0. 1. 0. 1. 0. 1. 0.]\n",
      " [0. 1. 0. 1. 0. 1. 0. 1.]\n",
      " [1. 0. 1. 0. 1. 0. 1. 0.]\n",
      " [0. 1. 0. 1. 0. 1. 0. 1.]\n",
      " [1. 0. 1. 0. 1. 0. 1. 0.]\n",
      " [0. 1. 0. 1. 0. 1. 0. 1.]\n",
      " [1. 0. 1. 0. 1. 0. 1. 0.]]\n"
     ]
    }
   ],
   "source": [
    "import numpy as np\n",
    "a = np.arange(10,50)\n",
    "print(\"Array from 10 to 49:\\n\", a)\n",
    "\n",
    "b = np.arange(9).reshape(3,3)\n",
    "print(\"\\n3x3 Matrix:\\n\",b)\n",
    "\n",
    "c = np.eye(3)\n",
    "print(\"\\n3x3 Identity Matrix:\\n\",c)\n",
    "\n",
    "d= np.random.random(30)\n",
    "mean_value = d.mean()\n",
    "print(\"\\n\",d)\n",
    "print(\"The mean value is:\\n \",mean_value)\n",
    "\n",
    "e = np.random.random((10,10))\n",
    "print(\"The min value is\\n \", e.min())\n",
    "print(\"The min value is\\n \", e.max())\n",
    "\n",
    "f = np.zeros(10)\n",
    "f[4] = 1\n",
    "print(f)\n",
    "\n",
    "arr = [1,2,0,0,4,0]\n",
    "print(\"The reverse array is\\n: \", arr[::-1])\n",
    "\n",
    "border_array = np.ones((5,5))\n",
    "border_array[1:-1, 1:-1] = 0\n",
    "print(\"\\n2D Array with Border 1 and Inside 0:\\n\", border_array)\n",
    "\n",
    "checkboard = np.zeros((8,8))\n",
    "checkboard[1::2, ::2]=1\n",
    "checkboard[::2, 1::2]= 1\n",
    "print(\"\\n8x8 Checkerboard Pattern:\\n\", checkboard)\n"
   ]
  },
  {
   "cell_type": "code",
   "execution_count": 110,
   "id": "945425a9-98be-4226-b87b-ceeb8e3b3115",
   "metadata": {},
   "outputs": [],
   "source": [
    "# Problem - 3: Array Operations:\n",
    "# For the following arrays:\n",
    "# x = np.array([[1,2],[3,5]]) and y = np.array([[5,6],[7,8]]);\n",
    "# v = np.array([9,10]) and w = np.array([11,12]);\n",
    "# Complete all the task using numpy:\n",
    "# 1. Add the two array.\n",
    "# 2. Subtract the two array.\n",
    "# 3. Multiply the array with any integers of your choice.\n",
    "# 4. Find the square of each element of the array.\n",
    "# 5. Find the dot product between: v(and)w ; x(and)v ; x(and)y.\n",
    "# 6. Concatenate x(and)y along row and Concatenate v(and)w along column.\n",
    "# {Hint:try np.concatenate() or np.vstack() functions.\n",
    "# # 7. Concatenate x(and)v; if you get an error, observe and explain why did you get the error?"
   ]
  },
  {
   "cell_type": "code",
   "execution_count": 144,
   "id": "9a724a76-043d-4af9-99d2-2696bf74bb9d",
   "metadata": {},
   "outputs": [
    {
     "name": "stdout",
     "output_type": "stream",
     "text": [
      "\n",
      "Addition \n",
      " [[ 6  8]\n",
      " [10 13]]\n",
      "\n",
      "Subtraction \n",
      " [[-4 -4]\n",
      " [-4 -3]]\n",
      "\n",
      "Multiplication \n",
      " [[ 5 10]\n",
      " [15 25]]\n",
      "\n",
      " The square of x is\n",
      " [[ 1  4]\n",
      " [ 9 25]]\n",
      "\n",
      " The square of y is\n",
      " [[25 36]\n",
      " [49 64]]\n",
      "\n",
      " The square of v is\n",
      " [ 81 100]\n",
      "\n",
      " The square of w is\n",
      " [121 144]\n",
      "\n",
      "Dot product of v and w: 219\n",
      "Dot product of x and v:\n",
      " [29 77]\n",
      "Dot product of x and y:\n",
      " [[19 22]\n",
      " [50 58]]\n",
      "\n",
      "Concatenation of x and y along rows:\n",
      " [[1 2]\n",
      " [3 5]\n",
      " [5 6]\n",
      " [7 8]]\n",
      "\n",
      "Concatenation of v and w along columns:\n",
      " [ 9 10 11 12]\n",
      "\n",
      "Concactenate of x and v raises an error because x is 2D matrix with size 2*2 and v is 1D array with size 2.Since their shapes do not match, NumPy raises a ValueError\n"
     ]
    }
   ],
   "source": [
    "x = np.array([[1,2],[3,5]])\n",
    "y = np.array([[5,6],[7,8]]);\n",
    "v = np.array([9,10]) \n",
    "w = np.array([11,12]);\n",
    "\n",
    "add = x+y\n",
    "print(\"\\nAddition \\n\", add)\n",
    "\n",
    "sub = x-y\n",
    "print(\"\\nSubtraction \\n\", sub)\n",
    "\n",
    "multiply = x * 5\n",
    "print(\"\\nMultiplication \\n\", multiply)\n",
    "\n",
    "print(\"\\n The square of x is\\n\", np.square(x))\n",
    "print(\"\\n The square of y is\\n\", np.square(y))\n",
    "print(\"\\n The square of v is\\n\", np.square(v))\n",
    "print(\"\\n The square of w is\\n\", np.square(w))\n",
    "\n",
    "dot_vw = np.dot(v,w)\n",
    "dot_xv = np.dot(x, v) \n",
    "dot_xy = np.dot(x, y)\n",
    "print(\"\\nDot product of v and w:\", dot_vw)\n",
    "print(\"Dot product of x and v:\\n\", dot_xv)\n",
    "print(\"Dot product of x and y:\\n\", dot_xy)\n",
    "\n",
    "concat_xy_row = np.concatenate((x,y), axis=0)\n",
    "concat_vw_col = np.concatenate((v,w))\n",
    "print(\"\\nConcatenation of x and y along rows:\\n\", concat_xy_row)\n",
    "print(\"\\nConcatenation of v and w along columns:\\n\", concat_vw_col)\n",
    "\n",
    "print(\"\\nConcactenate of x and v raises an error because x is 2D matrix with size 2*2 and v is 1D array with size 2.Since their shapes do not match, NumPy raises a ValueError\")\n",
    "\n",
    "\n"
   ]
  },
  {
   "cell_type": "code",
   "execution_count": null,
   "id": "0bb835b8-9bf6-4d2f-889b-6a44f78c6036",
   "metadata": {},
   "outputs": [],
   "source": [
    "# • For the following arrays:\n",
    "# A = np.array([[3,4],[7,8]]) and B = np.array([[5,3],[2,1]]);\n",
    "# Prove following with Numpy:\n",
    "# 1. Prove A.A−1 = I.\n",
    "# 2. Prove AB ̸= BA.\n",
    "# 3. Prove (AB)T = BTAT"
   ]
  },
  {
   "cell_type": "code",
   "execution_count": 150,
   "id": "03ace381-1291-4b3a-baa8-15fc45765d5d",
   "metadata": {},
   "outputs": [
    {
     "name": "stdout",
     "output_type": "stream",
     "text": [
      "A * A_inv = I:\n",
      " [[1. 0.]\n",
      " [0. 1.]]\n",
      "\n",
      "AB:\n",
      " [[23 13]\n",
      " [51 29]]\n",
      "\n",
      "BA:\n",
      " [[36 44]\n",
      " [13 16]]\n",
      "\n",
      "Is AB == BA? False\n",
      "\n",
      "(AB)ᵀ:\n",
      " [[23 51]\n",
      " [13 29]]\n",
      "\n",
      "Bᵀ Aᵀ:\n",
      " [[23 51]\n",
      " [13 29]]\n"
     ]
    }
   ],
   "source": [
    "A = np.array([[3,4],[7,8]])\n",
    "B = np.array([[5,3],[2,1]])\n",
    "\n",
    "A_inv = np.linalg.inv(A)\n",
    "identity = np.dot (A, A_inv)\n",
    "print(\"A * A_inv = I:\\n\", np.round(identity))\n",
    "\n",
    "\n",
    "AB = np.dot(A,B)\n",
    "print(\"\\nAB:\\n\", AB)\n",
    "BA = np.dot (B,A)\n",
    "print(\"\\nBA:\\n\", BA)\n",
    "check = np.array_equal(AB, BA)\n",
    "print(\"\\nIs AB == BA?\", check)  \n",
    "\n",
    "AB_transpose = np.transpose(AB)\n",
    "print(\"\\n(AB)ᵀ:\\n\", AB_transpose)\n",
    "BT_AT = np.dot(np.transpose(B), np.transpose(A)) \n",
    "print(\"\\nBᵀ Aᵀ:\\n\", BT_AT)\n",
    "transpose_check = np.array_equal(AB_transpose, BT_AT) \n",
    "\n"
   ]
  },
  {
   "cell_type": "code",
   "execution_count": null,
   "id": "17550254-edf0-43c4-a6a1-b9e51d92c64b",
   "metadata": {},
   "outputs": [],
   "source": [
    "# Solve the following system of Linear equation using Inverse Methods.\n",
    "\n",
    "# 2x − 3y + z = −1\n",
    "# x − y + 2z = −3\n",
    "# 3x + y − z = 9"
   ]
  },
  {
   "cell_type": "code",
   "execution_count": 156,
   "id": "2eba3c35-70e4-4c0c-bcfa-1aa7e8536bbd",
   "metadata": {},
   "outputs": [
    {
     "name": "stdout",
     "output_type": "stream",
     "text": [
      "Solution for x, y, z:\n",
      "x = 1.9999999999999998\n",
      "y = 1.0000000000000004\n",
      "z = -1.9999999999999996\n"
     ]
    }
   ],
   "source": [
    "import numpy as np\n",
    "A = np.array([[2,-3,1],\n",
    "             [1, -1, 2],\n",
    "             [3,1,-1]\n",
    "             ])\n",
    "\n",
    "B = np.array ([-1,-3,9])\n",
    "\n",
    "A_inv = np.linalg.inv(A)\n",
    "\n",
    "X = np.dot(A_inv, B)\n",
    "\n",
    "print(\"Solution for x, y, z:\")\n",
    "print(\"x =\", X[0])\n",
    "print(\"y =\", X[1])\n",
    "print(\"z =\", X[2])"
   ]
  },
  {
   "cell_type": "code",
   "execution_count": null,
   "id": "c52e0791-cbce-4970-ae4d-f4d2ca017f95",
   "metadata": {},
   "outputs": [],
   "source": []
  },
  {
   "cell_type": "code",
   "execution_count": null,
   "id": "44e11a65-fc6b-497b-869a-4deddbf9202a",
   "metadata": {},
   "outputs": [],
   "source": [
    "# 1. Element-wise Addition:\n",
    "# • Using Python Lists, perform element-wise addition of two lists of size 1, 000, 000. Measure\n",
    "# and Print the time taken for this operation.\n",
    "# • Using Numpy Arrays, Repeat the calculation and measure and print the time taken for\n",
    "# this operation."
   ]
  },
  {
   "cell_type": "code",
   "execution_count": 165,
   "id": "27e09bf6-0b31-4049-a063-e417638d699d",
   "metadata": {},
   "outputs": [
    {
     "name": "stdout",
     "output_type": "stream",
     "text": [
      "Python List Addition Time: 0.3300364017486572\n",
      "NumPy Array Addition Time: 0.0\n"
     ]
    }
   ],
   "source": [
    "import numpy as np\n",
    "import time\n",
    "\n",
    "size = 1_000_000\n",
    "list1 = list(range(size))\n",
    "list2 = list(range(size))\n",
    "\n",
    "#using Python\n",
    "start_time = time.time()\n",
    "result_list= [list1[i] + list2[i] for i in range(size)]\n",
    "end_time = time.time()\n",
    "print(\"Python List Addition Time:\", end_time - start_time)\n",
    "\n",
    "# using NUmpy Array\n",
    "array1 = np.arange(size)\n",
    "array2 = np.arange(size)\n",
    "start_time = time.time()\n",
    "result_array = array1 + array2\n",
    "end_time = time.time()\n",
    "print(\"NumPy Array Addition Time:\", end_time - start_time)\n"
   ]
  },
  {
   "cell_type": "code",
   "execution_count": null,
   "id": "a241452d-54fb-4428-a72a-b8c0e8622a7b",
   "metadata": {},
   "outputs": [],
   "source": [
    "# 2. Element-wise Multiplication\n",
    "# • Using Python Lists, perform element-wise multiplication of two lists of size 1, 000, 000.\n",
    "# Measure and Print the time taken for this operation.\n",
    "# • Using Numpy Arrays, Repeat the calculation and measure and print the time taken for\n",
    "# this operation."
   ]
  },
  {
   "cell_type": "code",
   "execution_count": 169,
   "id": "e45dbfa6-5426-4089-b2fb-9dd141112bda",
   "metadata": {},
   "outputs": [
    {
     "name": "stdout",
     "output_type": "stream",
     "text": [
      "Python List Multiplication Time: 0.33768153190612793\n",
      "NumPy Array Multiplication Time: 0.0040378570556640625\n"
     ]
    }
   ],
   "source": [
    "# Using Python lists\n",
    "start_time = time.time()\n",
    "result_list = [list1[i] * list2[i] for i in range(size)]\n",
    "end_time = time.time()\n",
    "print(\"Python List Multiplication Time:\", end_time - start_time)\n",
    "\n",
    "# Using NumPy arrays    \n",
    "start_time = time.time()\n",
    "result_array = array1 * array2\n",
    "end_time = time.time()\n",
    "print(\"NumPy Array Multiplication Time:\", end_time - start_time)\n",
    "      "
   ]
  },
  {
   "cell_type": "code",
   "execution_count": 171,
   "id": "c4a57bd7-c425-4bb5-8440-92b9464f9ea6",
   "metadata": {},
   "outputs": [
    {
     "name": "stdout",
     "output_type": "stream",
     "text": [
      "Python List Dot Product Time: 0.4141511917114258\n",
      "NumPy Array Dot Product Time: 0.0024940967559814453\n"
     ]
    }
   ],
   "source": [
    "start_time = time.time()\n",
    "dot_product_list = sum(list1[i] * list2[i] for i in range(size))\n",
    "end_time = time.time()\n",
    "print(\"Python List Dot Product Time:\", end_time - start_time)\n",
    "\n",
    "# Using NumPy arrays\n",
    "start_time = time.time()\n",
    "dot_product_array = np.dot(array1, array2)\n",
    "end_time = time.time()\n",
    "print(\"NumPy Array Dot Product Time:\", end_time - start_time)"
   ]
  },
  {
   "cell_type": "code",
   "execution_count": null,
   "id": "50346de3-d3c7-4565-969e-bbd9df8e7c0e",
   "metadata": {},
   "outputs": [],
   "source": [
    "matrix_size = 1000\n",
    "\n",
    "# Using Python lists\n",
    "matrix1 = [[i for i in range(matrix_size)] for j in range(matrix_size)]\n",
    "matrix2 = [[i for i in range(matrix_size)] for j in range(matrix_size)]\n",
    "\n",
    "start_time = time.time()\n",
    "result_matrix = [[sum(matrix1[i][k] * matrix2[k][j] for k in range(matrix_size)) for j in range(matrix_size)] for i in range(matrix_size)]\n",
    "end_time = time.time()\n",
    "print(\"Python List Matrix Multiplication Time:\", end_time - start_time)\n",
    "\n",
    "\n",
    "# Using NumPy arrays\n",
    "matrix1_np = np.arange(matrix_size * matrix_size).reshape(matrix_size, matrix_size)\n",
    "matrix2_np = np.arange(matrix_size * matrix_size).reshape(matrix_size, matrix_size)\n",
    "\n",
    "start_time = time.time()\n",
    "result_matrix_np = np.dot(matrix1_np, matrix2_np)\n",
    "end_time = time.time()\n",
    "print(\"NumPy Array Matrix Multiplication Time:\", end_time - start_time)\n"
   ]
  },
  {
   "cell_type": "code",
   "execution_count": null,
   "id": "c883d8db-017c-4c3c-9566-142598466080",
   "metadata": {},
   "outputs": [],
   "source": []
  },
  {
   "cell_type": "code",
   "execution_count": null,
   "id": "9b2a1a79-be60-4071-a6fb-dce54cb78108",
   "metadata": {},
   "outputs": [],
   "source": []
  }
 ],
 "metadata": {
  "kernelspec": {
   "display_name": "Python [conda env:base] *",
   "language": "python",
   "name": "conda-base-py"
  },
  "language_info": {
   "codemirror_mode": {
    "name": "ipython",
    "version": 3
   },
   "file_extension": ".py",
   "mimetype": "text/x-python",
   "name": "python",
   "nbconvert_exporter": "python",
   "pygments_lexer": "ipython3",
   "version": "3.12.7"
  }
 },
 "nbformat": 4,
 "nbformat_minor": 5
}
